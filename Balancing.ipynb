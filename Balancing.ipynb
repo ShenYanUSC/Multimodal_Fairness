{
 "cells": [
  {
   "cell_type": "code",
   "execution_count": 6,
   "id": "f4e5c885",
   "metadata": {},
   "outputs": [],
   "source": [
    "import pandas as pd\n",
    "import numpy as np\n",
    "import seaborn as sns\n",
    "import os\n",
    "import pickle\n",
    "import pylab as plt\n",
    "from collections import Counter\n",
    "from imblearn.over_sampling import RandomOverSampler\n",
    "import warnings\n",
    "warnings.filterwarnings(\"ignore\")"
   ]
  },
  {
   "cell_type": "code",
   "execution_count": 12,
   "id": "6375178f",
   "metadata": {},
   "outputs": [],
   "source": [
    "### balancing function\n",
    "\"\"\"\n",
    "function: dist_balancing\n",
    "Inputs:\n",
    "    data: original dataset\n",
    "    bins: histogram bins of the variable to be balanced\n",
    "    binsize: size of each bin\n",
    "    label: name of the variable\n",
    "    slabel: name of the sensitive attribute of interest\n",
    "Output:\n",
    "    balanced dataset\n",
    "\"\"\"\n",
    "def dist_balancing(data, bins, binsize, label, slabel):\n",
    "    ros = RandomOverSampler(random_state=42)\n",
    "    dfs = []\n",
    "    for b in bins[1:]:\n",
    "        dfb=data[(data[label]<b)&(data[label]>=b-binsize)]\n",
    "        if(len(dfb[slabel].unique())==1):\n",
    "            continue\n",
    "        ## random over sampling based on sensitive attribute distribution\n",
    "        dfb_res,gender_res=ros.fit_resample(dfb, dfb[slabel].tolist())\n",
    "        dfs.append(pd.DataFrame(dfb_res,columns=dfb.keys().tolist()))\n",
    "    df_res=pd.concat([dfi for dfi in dfs],ignore_index=True)\n",
    "    \n",
    "    return df_res"
   ]
  },
  {
   "cell_type": "markdown",
   "id": "2d8d3633",
   "metadata": {},
   "source": [
    "### Example on FirstImpression Data"
   ]
  },
  {
   "cell_type": "code",
   "execution_count": 16,
   "id": "31de736e",
   "metadata": {},
   "outputs": [
    {
     "data": {
      "image/png": "[encoded data removed]",
      "text/plain": [
       "<Figure size 720x288 with 2 Axes>"
      ]
     },
     "metadata": {
      "needs_background": "light"
     },
     "output_type": "display_data"
    }
   ],
   "source": [
    "filepath='../../FirstImpression/'\n",
    "df_train_info=pd.read_csv(filepath+'eth_gender_annotations_dev.csv',sep=';')\n",
    "\n",
    "f = open(filepath+'annotation_training.pkl','rb')\n",
    "df_train_label = pickle.load(f, encoding='latin1')\n",
    "\n",
    "df_train=df_train_info.copy()\n",
    "\n",
    "for label in ['extraversion', 'neuroticism', 'agreeableness', 'conscientiousness', 'interview', 'openness']:\n",
    "    ann=[]\n",
    "    vid=df_train_info['VideoName'].tolist()\n",
    "    dfi=df_train_label[label]\n",
    "    for i in vid:\n",
    "        if(i in dfi.keys()):\n",
    "            ann.append(df_train_label[label][i])\n",
    "        else:\n",
    "            ann.append(np.nan)\n",
    "    df_train[label]=ann\n",
    "df_train=df_train.dropna()\n",
    "\n",
    "data = df_train\n",
    "bins=np.arange(0,1.1,0.1) #range of target variable (can customize the bin size based on your data)\n",
    "binsize = 0.1\n",
    "label = 'openness'\n",
    "slabel = 'Gender'\n",
    "\n",
    "df_res = dist_balancing(data, bins, binsize, label, slabel)\n",
    "## plot the distribution\n",
    "plt.figure(figsize = (10,4))\n",
    "plt.subplot(1,2,1)\n",
    "data[data['Gender']==1][label].plot(kind ='hist',alpha=0.4,label='Male')\n",
    "data[data['Gender']==2][label].plot(kind ='hist',alpha=0.4,label='Female')\n",
    "plt.title(\"Before\")\n",
    "plt.legend()\n",
    "\n",
    "plt.subplot(1,2,2)\n",
    "df_res[df_res['Gender']==1][label].plot(kind ='hist',alpha=0.4,label='Male')\n",
    "df_res[df_res['Gender']==2][label].plot(kind ='hist',alpha=0.4,label='Female')\n",
    "plt.title(\"After\")\n",
    "plt.legend()\n",
    "plt.show()"
   ]
  },
  {
   "cell_type": "code",
   "execution_count": null,
   "id": "0b2f3355",
   "metadata": {},
   "outputs": [],
   "source": []
  }
 ],
 "metadata": {
  "kernelspec": {
   "display_name": "aif360",
   "language": "python",
   "name": "aif360"
  },
  "language_info": {
   "codemirror_mode": {
    "name": "ipython",
    "version": 3
   },
   "file_extension": ".py",
   "mimetype": "text/x-python",
   "name": "python",
   "nbconvert_exporter": "python",
   "pygments_lexer": "ipython3",
   "version": "3.6.13"
  }
 },
 "nbformat": 4,
 "nbformat_minor": 5
}
